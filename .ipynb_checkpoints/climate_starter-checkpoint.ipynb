{
 "cells": [
  {
   "cell_type": "code",
   "execution_count": 1,
   "metadata": {},
   "outputs": [],
   "source": [
    "%load_ext lab_black\n",
    "%matplotlib inline\n",
    "import matplotlib.pyplot as plt\n",
    "import numpy as np\n",
    "import pandas as pd\n",
    "from pprint import pprint\n",
    "from datetime import *\n",
    "import datetime as dt"
   ]
  },
  {
   "cell_type": "markdown",
   "metadata": {},
   "source": [
    "# Reflect Tables into SQLAlchemy ORM"
   ]
  },
  {
   "cell_type": "code",
   "execution_count": 2,
   "metadata": {},
   "outputs": [],
   "source": [
    "# Python SQL toolkit and Object Relational Mapper\n",
    "import sqlalchemy\n",
    "from sqlalchemy import and_\n",
    "from sqlalchemy.types import Date\n",
    "from sqlalchemy.ext.declarative import declarative_base\n",
    "from sqlalchemy.ext.automap import automap_base\n",
    "from sqlalchemy.orm import Session\n",
    "from sqlalchemy import create_engine, inspect, func"
   ]
  },
  {
   "cell_type": "code",
   "execution_count": 3,
   "metadata": {},
   "outputs": [],
   "source": [
    "engine = create_engine(\"sqlite:///Resources/hawaii.sqlite\")"
   ]
  },
  {
   "cell_type": "code",
   "execution_count": 4,
   "metadata": {},
   "outputs": [],
   "source": [
    "# Reflect an existing database into a new model\n",
    "Base = automap_base()\n",
    "\n",
    "# Reflect the tables\n",
    "Base.prepare(engine, reflect=True)"
   ]
  },
  {
   "cell_type": "code",
   "execution_count": 5,
   "metadata": {},
   "outputs": [
    {
     "data": {
      "text/plain": [
       "['measurement', 'station']"
      ]
     },
     "execution_count": 5,
     "metadata": {},
     "output_type": "execute_result"
    }
   ],
   "source": [
    "# We can view all of the classes that automap found\n",
    "Base.classes.keys()"
   ]
  },
  {
   "cell_type": "code",
   "execution_count": 6,
   "metadata": {},
   "outputs": [],
   "source": [
    "# Save references to each table\n",
    "Measurement = Base.classes.measurement\n",
    "Station = Base.classes.station"
   ]
  },
  {
   "cell_type": "code",
   "execution_count": 7,
   "metadata": {},
   "outputs": [],
   "source": [
    "# Create our session (link) from Python to the DB\n",
    "session = Session(engine)"
   ]
  },
  {
   "cell_type": "code",
   "execution_count": 8,
   "metadata": {},
   "outputs": [
    {
     "name": "stdout",
     "output_type": "stream",
     "text": [
      "[{'autoincrement': 'auto',\n",
      "  'default': None,\n",
      "  'name': 'id',\n",
      "  'nullable': False,\n",
      "  'primary_key': 1,\n",
      "  'type': INTEGER()},\n",
      " {'autoincrement': 'auto',\n",
      "  'default': None,\n",
      "  'name': 'station',\n",
      "  'nullable': True,\n",
      "  'primary_key': 0,\n",
      "  'type': TEXT()},\n",
      " {'autoincrement': 'auto',\n",
      "  'default': None,\n",
      "  'name': 'date',\n",
      "  'nullable': True,\n",
      "  'primary_key': 0,\n",
      "  'type': TEXT()},\n",
      " {'autoincrement': 'auto',\n",
      "  'default': None,\n",
      "  'name': 'prcp',\n",
      "  'nullable': True,\n",
      "  'primary_key': 0,\n",
      "  'type': FLOAT()},\n",
      " {'autoincrement': 'auto',\n",
      "  'default': None,\n",
      "  'name': 'tobs',\n",
      "  'nullable': True,\n",
      "  'primary_key': 0,\n",
      "  'type': FLOAT()}]\n"
     ]
    }
   ],
   "source": [
    "# Inspector to know the columns\n",
    "inspector = inspect(engine)\n",
    "pprint(inspector.get_columns(\"Measurement\"))"
   ]
  },
  {
   "cell_type": "code",
   "execution_count": 9,
   "metadata": {},
   "outputs": [
    {
     "data": {
      "text/plain": [
       "[('2010-01-01',),\n",
       " ('2010-01-02',),\n",
       " ('2010-01-03',),\n",
       " ('2010-01-04',),\n",
       " ('2010-01-06',)]"
      ]
     },
     "execution_count": 9,
     "metadata": {},
     "output_type": "execute_result"
    }
   ],
   "source": [
    "# Check how the dates are\n",
    "engine.execute(\"SELECT date FROM Measurement LIMIT 5\").fetchall()"
   ]
  },
  {
   "cell_type": "markdown",
   "metadata": {},
   "source": [
    "# Exploratory Climate Analysis"
   ]
  },
  {
   "cell_type": "code",
   "execution_count": 10,
   "metadata": {},
   "outputs": [
    {
     "name": "stdout",
     "output_type": "stream",
     "text": [
      "The analysis will be from 2016-08-23 to 2017-08-23.\n"
     ]
    }
   ],
   "source": [
    "# Query to retrieve the last 12 months\n",
    "date_max = session.query(func.max(Measurement.date)).first()[0]\n",
    "date_max = dt.datetime.strptime(date_max, \"%Y-%m-%d\").date()\n",
    "year_before = date_max - timedelta(365)\n",
    "\n",
    "print(f\"The analysis will be from {year_before} to {date_max}.\")"
   ]
  },
  {
   "cell_type": "code",
   "execution_count": 11,
   "metadata": {},
   "outputs": [
    {
     "data": {
      "text/html": [
       "<div>\n",
       "<style scoped>\n",
       "    .dataframe tbody tr th:only-of-type {\n",
       "        vertical-align: middle;\n",
       "    }\n",
       "\n",
       "    .dataframe tbody tr th {\n",
       "        vertical-align: top;\n",
       "    }\n",
       "\n",
       "    .dataframe thead th {\n",
       "        text-align: right;\n",
       "    }\n",
       "</style>\n",
       "<table border=\"1\" class=\"dataframe\">\n",
       "  <thead>\n",
       "    <tr style=\"text-align: right;\">\n",
       "      <th></th>\n",
       "      <th>prcp</th>\n",
       "    </tr>\n",
       "    <tr>\n",
       "      <th>date</th>\n",
       "      <th></th>\n",
       "    </tr>\n",
       "  </thead>\n",
       "  <tbody>\n",
       "    <tr>\n",
       "      <th>2016-08-23</th>\n",
       "      <td>0.00</td>\n",
       "    </tr>\n",
       "    <tr>\n",
       "      <th>2016-08-23</th>\n",
       "      <td>0.15</td>\n",
       "    </tr>\n",
       "    <tr>\n",
       "      <th>2016-08-23</th>\n",
       "      <td>0.05</td>\n",
       "    </tr>\n",
       "    <tr>\n",
       "      <th>2016-08-23</th>\n",
       "      <td>NaN</td>\n",
       "    </tr>\n",
       "    <tr>\n",
       "      <th>2016-08-23</th>\n",
       "      <td>0.02</td>\n",
       "    </tr>\n",
       "    <tr>\n",
       "      <th>...</th>\n",
       "      <td>...</td>\n",
       "    </tr>\n",
       "    <tr>\n",
       "      <th>2017-08-22</th>\n",
       "      <td>0.50</td>\n",
       "    </tr>\n",
       "    <tr>\n",
       "      <th>2017-08-23</th>\n",
       "      <td>0.00</td>\n",
       "    </tr>\n",
       "    <tr>\n",
       "      <th>2017-08-23</th>\n",
       "      <td>0.00</td>\n",
       "    </tr>\n",
       "    <tr>\n",
       "      <th>2017-08-23</th>\n",
       "      <td>0.08</td>\n",
       "    </tr>\n",
       "    <tr>\n",
       "      <th>2017-08-23</th>\n",
       "      <td>0.45</td>\n",
       "    </tr>\n",
       "  </tbody>\n",
       "</table>\n",
       "<p>2230 rows × 1 columns</p>\n",
       "</div>"
      ],
      "text/plain": [
       "            prcp\n",
       "date            \n",
       "2016-08-23  0.00\n",
       "2016-08-23  0.15\n",
       "2016-08-23  0.05\n",
       "2016-08-23   NaN\n",
       "2016-08-23  0.02\n",
       "...          ...\n",
       "2017-08-22  0.50\n",
       "2017-08-23  0.00\n",
       "2017-08-23  0.00\n",
       "2017-08-23  0.08\n",
       "2017-08-23  0.45\n",
       "\n",
       "[2230 rows x 1 columns]"
      ]
     },
     "execution_count": 11,
     "metadata": {},
     "output_type": "execute_result"
    }
   ],
   "source": [
    "# Query to retrieve precipitation for the latest year\n",
    "prcp = (\n",
    "    session.query(Measurement.date, Measurement.prcp)\n",
    "    .filter(Measurement.date >= year_before)\n",
    "    .order_by(Measurement.date)\n",
    "    .all()\n",
    ")\n",
    "\n",
    "# Load the query results into a Pandas DataFrame, set the index to the date column, and  Sort the DataFrame values by `date`.\n",
    "prcp_df = (pd.DataFrame(prcp)).set_index(\"date\").sort_index(ascending=True)\n",
    "\n",
    "# Save the query results\n",
    "prcp_df"
   ]
  },
  {
   "cell_type": "code",
   "execution_count": 12,
   "metadata": {},
   "outputs": [
    {
     "data": {
      "text/plain": [
       "<Figure size 432x288 with 0 Axes>"
      ]
     },
     "metadata": {},
     "output_type": "display_data"
    },
    {
     "data": {
      "image/png": "[encoded data removed]",
      "text/plain": [
       "<Figure size 576x360 with 1 Axes>"
      ]
     },
     "metadata": {
      "needs_background": "light"
     },
     "output_type": "display_data"
    }
   ],
   "source": [
    "# Plot the results using the DataFrame `plot` method.\n",
    "plt.gcf().subplots_adjust(bottom=0.15)\n",
    "prcp_df.plot(\n",
    "    y=\"prcp\",\n",
    "    kind=\"line\",\n",
    "    grid=True,\n",
    "    fontsize=12,\n",
    "    rot=25,\n",
    "    legend=False,\n",
    "    colormap=\"Spectral\",\n",
    "    use_index=True,\n",
    "    figsize=(8, 5),\n",
    ")\n",
    "plt.title(\"Precipitation: 2016/Aug/23 -  2017/Aug/23\", size=18)\n",
    "plt.xlabel(\"Date\", size=14)\n",
    "plt.ylabel(\"Precipitation\", size=14)\n",
    "plt.yticks(size=7)\n",
    "plt.savefig(\"Output/precipitation_amounts.png\")\n",
    "plt.show()"
   ]
  },
  {
   "cell_type": "code",
   "execution_count": 13,
   "metadata": {},
   "outputs": [
    {
     "data": {
      "text/html": [
       "<div>\n",
       "<style scoped>\n",
       "    .dataframe tbody tr th:only-of-type {\n",
       "        vertical-align: middle;\n",
       "    }\n",
       "\n",
       "    .dataframe tbody tr th {\n",
       "        vertical-align: top;\n",
       "    }\n",
       "\n",
       "    .dataframe thead th {\n",
       "        text-align: right;\n",
       "    }\n",
       "</style>\n",
       "<table border=\"1\" class=\"dataframe\">\n",
       "  <thead>\n",
       "    <tr style=\"text-align: right;\">\n",
       "      <th></th>\n",
       "      <th>Precipitation</th>\n",
       "    </tr>\n",
       "  </thead>\n",
       "  <tbody>\n",
       "    <tr>\n",
       "      <th>count</th>\n",
       "      <td>2021.000000</td>\n",
       "    </tr>\n",
       "    <tr>\n",
       "      <th>mean</th>\n",
       "      <td>0.177279</td>\n",
       "    </tr>\n",
       "    <tr>\n",
       "      <th>std</th>\n",
       "      <td>0.461190</td>\n",
       "    </tr>\n",
       "    <tr>\n",
       "      <th>min</th>\n",
       "      <td>0.000000</td>\n",
       "    </tr>\n",
       "    <tr>\n",
       "      <th>25%</th>\n",
       "      <td>0.000000</td>\n",
       "    </tr>\n",
       "    <tr>\n",
       "      <th>50%</th>\n",
       "      <td>0.020000</td>\n",
       "    </tr>\n",
       "    <tr>\n",
       "      <th>75%</th>\n",
       "      <td>0.130000</td>\n",
       "    </tr>\n",
       "    <tr>\n",
       "      <th>max</th>\n",
       "      <td>6.700000</td>\n",
       "    </tr>\n",
       "  </tbody>\n",
       "</table>\n",
       "</div>"
      ],
      "text/plain": [
       "       Precipitation\n",
       "count    2021.000000\n",
       "mean        0.177279\n",
       "std         0.461190\n",
       "min         0.000000\n",
       "25%         0.000000\n",
       "50%         0.020000\n",
       "75%         0.130000\n",
       "max         6.700000"
      ]
     },
     "execution_count": 13,
     "metadata": {},
     "output_type": "execute_result"
    }
   ],
   "source": [
    "# Use Pandas to print the summary statistics for the precipitation data.\n",
    "prcp_df.describe().rename({\"prcp\": \"Precipitation\"}, axis=1)"
   ]
  },
  {
   "cell_type": "code",
   "execution_count": 14,
   "metadata": {},
   "outputs": [
    {
     "name": "stdout",
     "output_type": "stream",
     "text": [
      "The total number of Stations is 9.\n"
     ]
    }
   ],
   "source": [
    "# Design a query to show how many stations are available in this dataset?\n",
    "count_stations = session.query(Station.name).count()\n",
    "\n",
    "print(f\"The total number of Stations is {count_stations}.\")"
   ]
  },
  {
   "cell_type": "code",
   "execution_count": 15,
   "metadata": {},
   "outputs": [
    {
     "name": "stdout",
     "output_type": "stream",
     "text": [
      "[('USC00519281', 2772), ('USC00519397', 2724), ('USC00513117', 2709), ('USC00519523', 2669), ('USC00516128', 2612), ('USC00514830', 2202), ('USC00511918', 1979), ('USC00517948', 1372), ('USC00518838', 511)]\n"
     ]
    }
   ],
   "source": [
    "# What are the most active stations? (i.e. what stations have the most rows)?\n",
    "# List the stations and the counts in descending order.\n",
    "active_station = (\n",
    "    session.query(Measurement.station, func.count(Measurement.station))\n",
    "    .group_by(Measurement.station)\n",
    "    .order_by(func.count(Measurement.station).desc())\n",
    "    .all()\n",
    ")\n",
    "\n",
    "print(active_station)"
   ]
  },
  {
   "cell_type": "code",
   "execution_count": 16,
   "metadata": {},
   "outputs": [
    {
     "name": "stdout",
     "output_type": "stream",
     "text": [
      "The station USC00519281 has the highest number of observations.\n",
      "The minimum temperature at station USC00519281 is 54.0, the maximun is 85.0 and the average is 71.66378066378067.\n"
     ]
    }
   ],
   "source": [
    "# Using the station id from the previous query, calculate the lowest temperature recorded,\n",
    "# highest temperature recorded, and average temperature most active station?\n",
    "\n",
    "most_active = active_station[0][0]\n",
    "\n",
    "mim_max_avg_temp = (\n",
    "    session.query(\n",
    "        func.min(Measurement.tobs),\n",
    "        func.max(Measurement.tobs),\n",
    "        func.avg(Measurement.tobs),\n",
    "    )\n",
    "    .filter(Measurement.station == most_active)\n",
    "    .all()\n",
    ")\n",
    "\n",
    "print(f\"The station {most_active} has the highest number of observations.\")\n",
    "print(\n",
    "    f\"The minimum temperature at station {most_active} is {mim_max_avg_temp[0][0]}, the maximun is {mim_max_avg_temp[0][1]} and the average is {mim_max_avg_temp[0][2]}.\"\n",
    ")"
   ]
  },
  {
   "cell_type": "code",
   "execution_count": 17,
   "metadata": {},
   "outputs": [],
   "source": [
    "mim_max_avg_temp = (\n",
    "    session.query(\n",
    "        func.min(Measurement.tobs),\n",
    "        func.max(Measurement.tobs),\n",
    "        func.avg(Measurement.tobs),\n",
    "    )\n",
    "    .filter(Measurement.station == most_active)\n",
    "    .all()\n",
    ")"
   ]
  },
  {
   "cell_type": "code",
   "execution_count": 18,
   "metadata": {},
   "outputs": [],
   "source": [
    "# Choose the station with the highest number of temperature observations.\n",
    "# Query the last 12 months of temperature observation data for this station and plot the results as a histogram.\n",
    "\n",
    "most_active_tobs = (\n",
    "    session.query(Measurement.tobs)\n",
    "    .filter(Measurement.station == most_active)\n",
    "    .filter(Measurement.date >= year_before)\n",
    "    .order_by(Measurement.date.desc())\n",
    "    .all()\n",
    ")"
   ]
  },
  {
   "cell_type": "code",
   "execution_count": 19,
   "metadata": {},
   "outputs": [
    {
     "data": {
      "image/png": "[encoded data removed]",
      "text/plain": [
       "<Figure size 432x288 with 1 Axes>"
      ]
     },
     "metadata": {
      "needs_background": "light"
     },
     "output_type": "display_data"
    },
    {
     "data": {
      "text/plain": [
       "<Figure size 576x360 with 0 Axes>"
      ]
     },
     "metadata": {},
     "output_type": "display_data"
    }
   ],
   "source": [
    "x = [x[0] for x in most_active_tobs]\n",
    "plt.hist(x, bins=12, color=\"mediumblue\", alpha=0.7)\n",
    "plt.title(f\"Temperature for station {most_active}\", size=18)\n",
    "plt.xlabel(\"Temperature from 2016/Aug/23 to 2017/Aug/23\", size=14)\n",
    "plt.ylabel(\"Frequency\", size=14)\n",
    "plt.gcf().subplots_adjust(bottom=0.15)\n",
    "plt.figure(figsize=(8, 5))\n",
    "plt.savefig(\"Output/temperature_results_hist.png\")\n",
    "plt.show()"
   ]
  },
  {
   "cell_type": "code",
   "execution_count": 20,
   "metadata": {},
   "outputs": [],
   "source": [
    "# This function called `calc_temps` will accept start date and end date in the format '%Y-%m-%d'\n",
    "# and return the minimum, average, and maximum temperatures for that range of dates\n",
    "def calc_temps(start_date, end_date):\n",
    "    return (\n",
    "        session.query(\n",
    "            func.min(Measurement.tobs),\n",
    "            func.avg(Measurement.tobs),\n",
    "            func.max(Measurement.tobs),\n",
    "        )\n",
    "        .filter(Measurement.date >= start_date)\n",
    "        .filter(Measurement.date <= end_date)\n",
    "        .all()\n",
    "    )"
   ]
  },
  {
   "cell_type": "code",
   "execution_count": 21,
   "metadata": {},
   "outputs": [
    {
     "name": "stdout",
     "output_type": "stream",
     "text": [
      " From 2017-03-23 to 2017-04-02 the minimum, maximum and average temperature was 68.0, 74.65671641791045 and 80.0 respectively.\n"
     ]
    }
   ],
   "source": [
    "# Use your previous function `calc_temps` to calculate the tmin, tavg, and tmax\n",
    "# for your trip using the previous year's data for those same dates.\n",
    "\n",
    "trip_start = dt.date(2017, 3, 23)\n",
    "trip_end = dt.date(2017, 4, 2)\n",
    "\n",
    "trip_min = calc_temps(trip_start, trip_end)[0][0]\n",
    "trip_avg = calc_temps(trip_start, trip_end)[0][1]\n",
    "trip_max = calc_temps(trip_start, trip_end)[0][2]\n",
    "\n",
    "print(\n",
    "    f\" From {trip_start} to {trip_end} the minimum, maximum and average temperature was {trip_min}, {trip_avg} and {trip_max} respectively.\"\n",
    ")"
   ]
  },
  {
   "cell_type": "code",
   "execution_count": 22,
   "metadata": {},
   "outputs": [
    {
     "data": {
      "image/png": "[encoded data removed]",
      "text/plain": [
       "<Figure size 432x288 with 1 Axes>"
      ]
     },
     "metadata": {
      "needs_background": "light"
     },
     "output_type": "display_data"
    },
    {
     "data": {
      "text/plain": [
       "<Figure size 576x360 with 0 Axes>"
      ]
     },
     "metadata": {},
     "output_type": "display_data"
    }
   ],
   "source": [
    "# Plot the results from your previous query as a bar chart.\n",
    "# Use \"Trip Avg Temp\" as your Title\n",
    "# Use the average temperature for the y value\n",
    "# Use the peak-to-peak (tmax-tmin) value as the y error bar (yerr)\n",
    "\n",
    "trip = f\"{trip_start} to {trip_end}\"\n",
    "yerr = trip_max - trip_min\n",
    "\n",
    "plt.gcf().subplots_adjust(bottom=0.15)\n",
    "plt.bar(trip, trip_avg, yerr=yerr, color=\"mediumblue\", alpha=0.6)\n",
    "plt.ylim(0, 100)\n",
    "plt.xlim(-1.5, 1.5)\n",
    "plt.title(\"Trip Avg Temp\", size=18)\n",
    "plt.ylabel(\"Temp (F)\", size=14)\n",
    "plt.xlabel(\"Date\", size=14)\n",
    "plt.grid(alpha=0.3)\n",
    "plt.figure(figsize=(8, 5))\n",
    "plt.savefig(\"Output/trip_abg_temp.png\")\n",
    "plt.show()"
   ]
  },
  {
   "cell_type": "code",
   "execution_count": 23,
   "metadata": {},
   "outputs": [
    {
     "data": {
      "text/html": [
       "<div>\n",
       "<style scoped>\n",
       "    .dataframe tbody tr th:only-of-type {\n",
       "        vertical-align: middle;\n",
       "    }\n",
       "\n",
       "    .dataframe tbody tr th {\n",
       "        vertical-align: top;\n",
       "    }\n",
       "\n",
       "    .dataframe thead th {\n",
       "        text-align: right;\n",
       "    }\n",
       "</style>\n",
       "<table border=\"1\" class=\"dataframe\">\n",
       "  <thead>\n",
       "    <tr style=\"text-align: right;\">\n",
       "      <th></th>\n",
       "      <th>Station</th>\n",
       "      <th>Name</th>\n",
       "      <th>PRCP</th>\n",
       "      <th>Latitude</th>\n",
       "      <th>Longitude</th>\n",
       "      <th>Elevation</th>\n",
       "    </tr>\n",
       "  </thead>\n",
       "  <tbody>\n",
       "    <tr>\n",
       "      <th>0</th>\n",
       "      <td>USC00516128</td>\n",
       "      <td>MANOA LYON ARBO 785.2, HI US</td>\n",
       "      <td>1.63</td>\n",
       "      <td>21.3331</td>\n",
       "      <td>-157.8025</td>\n",
       "      <td>152.4</td>\n",
       "    </tr>\n",
       "    <tr>\n",
       "      <th>1</th>\n",
       "      <td>USC00519281</td>\n",
       "      <td>WAIHEE 837.5, HI US</td>\n",
       "      <td>1.33</td>\n",
       "      <td>21.45167</td>\n",
       "      <td>-157.84888999999998</td>\n",
       "      <td>32.9</td>\n",
       "    </tr>\n",
       "    <tr>\n",
       "      <th>2</th>\n",
       "      <td>USC00513117</td>\n",
       "      <td>KANEOHE 838.1, HI US</td>\n",
       "      <td>0.84</td>\n",
       "      <td>21.4234</td>\n",
       "      <td>-157.8015</td>\n",
       "      <td>14.6</td>\n",
       "    </tr>\n",
       "    <tr>\n",
       "      <th>3</th>\n",
       "      <td>USC00519523</td>\n",
       "      <td>WAIMANALO EXPERIMENTAL FARM, HI US</td>\n",
       "      <td>0.6</td>\n",
       "      <td>21.33556</td>\n",
       "      <td>-157.71139</td>\n",
       "      <td>19.5</td>\n",
       "    </tr>\n",
       "    <tr>\n",
       "      <th>4</th>\n",
       "      <td>USC00514830</td>\n",
       "      <td>KUALOA RANCH HEADQUARTERS 886.9, HI US</td>\n",
       "      <td>0.21</td>\n",
       "      <td>21.5213</td>\n",
       "      <td>-157.8374</td>\n",
       "      <td>7.0</td>\n",
       "    </tr>\n",
       "    <tr>\n",
       "      <th>5</th>\n",
       "      <td>USC00519397</td>\n",
       "      <td>WAIKIKI 717.2, HI US</td>\n",
       "      <td>0.02</td>\n",
       "      <td>21.2716</td>\n",
       "      <td>-157.8168</td>\n",
       "      <td>3.0</td>\n",
       "    </tr>\n",
       "    <tr>\n",
       "      <th>6</th>\n",
       "      <td>USC00517948</td>\n",
       "      <td>PEARL CITY, HI US</td>\n",
       "      <td>0.0</td>\n",
       "      <td>21.3934</td>\n",
       "      <td>-157.9751</td>\n",
       "      <td>11.9</td>\n",
       "    </tr>\n",
       "  </tbody>\n",
       "</table>\n",
       "</div>"
      ],
      "text/plain": [
       "       Station                                    Name  PRCP  Latitude  \\\n",
       "0  USC00516128            MANOA LYON ARBO 785.2, HI US  1.63   21.3331   \n",
       "1  USC00519281                     WAIHEE 837.5, HI US  1.33  21.45167   \n",
       "2  USC00513117                    KANEOHE 838.1, HI US  0.84   21.4234   \n",
       "3  USC00519523      WAIMANALO EXPERIMENTAL FARM, HI US   0.6  21.33556   \n",
       "4  USC00514830  KUALOA RANCH HEADQUARTERS 886.9, HI US  0.21   21.5213   \n",
       "5  USC00519397                    WAIKIKI 717.2, HI US  0.02   21.2716   \n",
       "6  USC00517948                       PEARL CITY, HI US   0.0   21.3934   \n",
       "\n",
       "             Longitude Elevation  \n",
       "0            -157.8025     152.4  \n",
       "1  -157.84888999999998      32.9  \n",
       "2            -157.8015      14.6  \n",
       "3           -157.71139      19.5  \n",
       "4            -157.8374       7.0  \n",
       "5            -157.8168       3.0  \n",
       "6            -157.9751      11.9  "
      ]
     },
     "execution_count": 23,
     "metadata": {},
     "output_type": "execute_result"
    }
   ],
   "source": [
    "# Calculate the total amount of rainfall per weather station for your trip dates using the previous year's matching dates.\n",
    "# Sort this in descending order by precipitation amount and list the station, name, latitude, longitude, and elevation\n",
    "query = (\n",
    "    session.query(\n",
    "        Station.station,\n",
    "        Station.name,\n",
    "        func.sum(Measurement.prcp),\n",
    "        Station.latitude,\n",
    "        Station.longitude,\n",
    "        Station.elevation,\n",
    "    )\n",
    "    .filter(Station.station == Measurement.station)\n",
    "    .filter(Measurement.date >= trip_start)\n",
    "    .filter(Measurement.date <= trip_end)\n",
    "    .group_by(Station.station)\n",
    "    .order_by(func.sum(Measurement.prcp).desc())\n",
    "    .all()\n",
    ")\n",
    "\n",
    "# Convert query object to data frame\n",
    "trip_rain_db = (pd.DataFrame(np.array(query))).rename(\n",
    "    columns={\n",
    "        0: \"Station\",\n",
    "        1: \"Name\",\n",
    "        2: \"PRCP\",\n",
    "        3: \"Latitude\",\n",
    "        4: \"Longitude\",\n",
    "        5: \"Elevation\",\n",
    "    }\n",
    ")\n",
    "trip_rain_db"
   ]
  },
  {
   "cell_type": "markdown",
   "metadata": {},
   "source": [
    "## Optional Challenge Assignment"
   ]
  },
  {
   "cell_type": "code",
   "execution_count": 24,
   "metadata": {},
   "outputs": [],
   "source": [
    "# Create a query that will calculate the daily normals\n",
    "# (i.e. the averages for tmin, tmax, and tavg for all historic data matching a specific month and day)\n",
    "\n",
    "\n",
    "def daily_normals(date):\n",
    "    \"\"\"Daily Normals.\n",
    "    \n",
    "    Args:\n",
    "        date (str): A date string in the format '%m-%d'\n",
    "        \n",
    "    Returns:\n",
    "        A list of tuples containing the daily normals, tmin, tavg, and tmax\n",
    "    \n",
    "    \"\"\"\n",
    "\n",
    "    sel = [\n",
    "        func.min(Measurement.tobs),\n",
    "        func.avg(Measurement.tobs),\n",
    "        func.max(Measurement.tobs),\n",
    "    ]\n",
    "    return (\n",
    "        session.query(\n",
    "            *sel\n",
    "        )  # (*sel) means that the list produced in the Args (sel) will be wrapped up in a tuple.\n",
    "        .filter(func.strftime(\"%m-%d\", Measurement.date) == date)\n",
    "        .all()\n",
    "    )"
   ]
  },
  {
   "cell_type": "code",
   "execution_count": 25,
   "metadata": {},
   "outputs": [],
   "source": [
    "# Calculate the daily normals for your trip\n",
    "# Push each tuple of calculations into a list called `normals`\n",
    "trip_start = dt.date(2017, 3, 23)\n",
    "trip_end = dt.date(2017, 4, 2)\n",
    "trip_lenght = trip_end - trip_start\n",
    "\n",
    "# Use the start and end date to create a range of dates\n",
    "trip_range = pd.date_range(start=trip_start, end=trip_end)\n",
    "\n",
    "# Stip off the year and save a list of %m-%d strings\n",
    "trip_range = trip_range.strftime(\"%m-%d\")\n",
    "\n",
    "# Loop through the list of %m-%d strings and calculate the normals for each date\n",
    "trip_normals = [daily_normals(date) for date in trip_range]"
   ]
  },
  {
   "cell_type": "code",
   "execution_count": 26,
   "metadata": {},
   "outputs": [],
   "source": [
    "# Extract normals into a list of lists\n",
    "trip_normals = [np.array(normal[0]) for normal in trip_normals]"
   ]
  },
  {
   "cell_type": "code",
   "execution_count": 27,
   "metadata": {},
   "outputs": [
    {
     "data": {
      "text/html": [
       "<div>\n",
       "<style scoped>\n",
       "    .dataframe tbody tr th:only-of-type {\n",
       "        vertical-align: middle;\n",
       "    }\n",
       "\n",
       "    .dataframe tbody tr th {\n",
       "        vertical-align: top;\n",
       "    }\n",
       "\n",
       "    .dataframe thead th {\n",
       "        text-align: right;\n",
       "    }\n",
       "</style>\n",
       "<table border=\"1\" class=\"dataframe\">\n",
       "  <thead>\n",
       "    <tr style=\"text-align: right;\">\n",
       "      <th></th>\n",
       "      <th>T_Min</th>\n",
       "      <th>T_Avg</th>\n",
       "      <th>T Max</th>\n",
       "    </tr>\n",
       "    <tr>\n",
       "      <th>Date</th>\n",
       "      <th></th>\n",
       "      <th></th>\n",
       "      <th></th>\n",
       "    </tr>\n",
       "  </thead>\n",
       "  <tbody>\n",
       "    <tr>\n",
       "      <th>03-23</th>\n",
       "      <td>63.0</td>\n",
       "      <td>70.796296</td>\n",
       "      <td>78.0</td>\n",
       "    </tr>\n",
       "    <tr>\n",
       "      <th>03-24</th>\n",
       "      <td>62.0</td>\n",
       "      <td>71.500000</td>\n",
       "      <td>77.0</td>\n",
       "    </tr>\n",
       "    <tr>\n",
       "      <th>03-25</th>\n",
       "      <td>63.0</td>\n",
       "      <td>71.500000</td>\n",
       "      <td>78.0</td>\n",
       "    </tr>\n",
       "    <tr>\n",
       "      <th>03-26</th>\n",
       "      <td>64.0</td>\n",
       "      <td>71.380000</td>\n",
       "      <td>80.0</td>\n",
       "    </tr>\n",
       "    <tr>\n",
       "      <th>03-27</th>\n",
       "      <td>63.0</td>\n",
       "      <td>71.538462</td>\n",
       "      <td>80.0</td>\n",
       "    </tr>\n",
       "    <tr>\n",
       "      <th>03-28</th>\n",
       "      <td>59.0</td>\n",
       "      <td>71.517857</td>\n",
       "      <td>82.0</td>\n",
       "    </tr>\n",
       "    <tr>\n",
       "      <th>03-29</th>\n",
       "      <td>58.0</td>\n",
       "      <td>71.357143</td>\n",
       "      <td>77.0</td>\n",
       "    </tr>\n",
       "    <tr>\n",
       "      <th>03-30</th>\n",
       "      <td>62.0</td>\n",
       "      <td>72.175439</td>\n",
       "      <td>79.0</td>\n",
       "    </tr>\n",
       "    <tr>\n",
       "      <th>03-31</th>\n",
       "      <td>61.0</td>\n",
       "      <td>71.875000</td>\n",
       "      <td>79.0</td>\n",
       "    </tr>\n",
       "    <tr>\n",
       "      <th>04-01</th>\n",
       "      <td>60.0</td>\n",
       "      <td>71.879310</td>\n",
       "      <td>80.0</td>\n",
       "    </tr>\n",
       "    <tr>\n",
       "      <th>04-02</th>\n",
       "      <td>53.0</td>\n",
       "      <td>71.821429</td>\n",
       "      <td>79.0</td>\n",
       "    </tr>\n",
       "  </tbody>\n",
       "</table>\n",
       "</div>"
      ],
      "text/plain": [
       "       T_Min      T_Avg  T Max\n",
       "Date                          \n",
       "03-23   63.0  70.796296   78.0\n",
       "03-24   62.0  71.500000   77.0\n",
       "03-25   63.0  71.500000   78.0\n",
       "03-26   64.0  71.380000   80.0\n",
       "03-27   63.0  71.538462   80.0\n",
       "03-28   59.0  71.517857   82.0\n",
       "03-29   58.0  71.357143   77.0\n",
       "03-30   62.0  72.175439   79.0\n",
       "03-31   61.0  71.875000   79.0\n",
       "04-01   60.0  71.879310   80.0\n",
       "04-02   53.0  71.821429   79.0"
      ]
     },
     "execution_count": 27,
     "metadata": {},
     "output_type": "execute_result"
    }
   ],
   "source": [
    "# Load the previous query results into a Pandas DataFrame and add the `trip_dates` range as the `date` index\n",
    "trip_normals_db = pd.DataFrame(trip_normals)\n",
    "\n",
    "# Add date column\n",
    "trip_normals_db[\"Date\"] = trip_range\n",
    "\n",
    "# Set index and rename columns\n",
    "trip_normals_db = trip_normals_db.set_index(\"Date\")\n",
    "trip_normals_db = trip_normals_db.rename(columns={0: \"T_Min\", 1: \"T_Avg\", 2: \"T Max\"})\n",
    "\n",
    "trip_normals_db"
   ]
  },
  {
   "cell_type": "code",
   "execution_count": 28,
   "metadata": {},
   "outputs": [
    {
     "data": {
      "text/plain": [
       "{'03-23': {'T_Min': 63.0, 'T_Avg': 70.79629629629629, 'T Max': 78.0},\n",
       " '03-24': {'T_Min': 62.0, 'T_Avg': 71.5, 'T Max': 77.0},\n",
       " '03-25': {'T_Min': 63.0, 'T_Avg': 71.5, 'T Max': 78.0},\n",
       " '03-26': {'T_Min': 64.0, 'T_Avg': 71.38, 'T Max': 80.0},\n",
       " '03-27': {'T_Min': 63.0, 'T_Avg': 71.53846153846153, 'T Max': 80.0},\n",
       " '03-28': {'T_Min': 59.0, 'T_Avg': 71.51785714285714, 'T Max': 82.0},\n",
       " '03-29': {'T_Min': 58.0, 'T_Avg': 71.35714285714286, 'T Max': 77.0},\n",
       " '03-30': {'T_Min': 62.0, 'T_Avg': 72.17543859649123, 'T Max': 79.0},\n",
       " '03-31': {'T_Min': 61.0, 'T_Avg': 71.875, 'T Max': 79.0},\n",
       " '04-01': {'T_Min': 60.0, 'T_Avg': 71.87931034482759, 'T Max': 80.0},\n",
       " '04-02': {'T_Min': 53.0, 'T_Avg': 71.82142857142857, 'T Max': 79.0}}"
      ]
     },
     "execution_count": 28,
     "metadata": {},
     "output_type": "execute_result"
    }
   ],
   "source": [
    "trip_normals_db.to_dict(\"index\")"
   ]
  },
  {
   "cell_type": "code",
   "execution_count": 29,
   "metadata": {},
   "outputs": [
    {
     "data": {
      "text/plain": [
       "<Figure size 432x288 with 0 Axes>"
      ]
     },
     "metadata": {},
     "output_type": "display_data"
    },
    {
     "data": {
      "image/png": "[encoded data removed]",
      "text/plain": [
       "<Figure size 576x360 with 1 Axes>"
      ]
     },
     "metadata": {
      "needs_background": "light"
     },
     "output_type": "display_data"
    }
   ],
   "source": [
    "# Plot the daily normals as an area plot with `stacked=False`\n",
    "plt.gcf().subplots_adjust(bottom=0.15)\n",
    "trip_normals_db.plot.area(\n",
    "    stacked=False, colormap=\"plasma\", alpha=0.333, rot=0, figsize=(8, 5)\n",
    ")\n",
    "plt.title(f\"Temperature for trip in 2017\", size=18)\n",
    "plt.ylabel(\"Temp (F)\", size=14)\n",
    "plt.xlabel(\"Date\", size=14)\n",
    "plt.ylim(0, 100)\n",
    "plt.savefig(\"Output/trip_temperature_results_area.png\")\n",
    "plt.show()"
   ]
  },
  {
   "cell_type": "code",
   "execution_count": null,
   "metadata": {},
   "outputs": [],
   "source": []
  }
 ],
 "metadata": {
  "kernel_info": {
   "name": "python3"
  },
  "kernelspec": {
   "display_name": "surf",
   "language": "python",
   "name": "surf"
  },
  "language_info": {
   "codemirror_mode": {
    "name": "ipython",
    "version": 3
   },
   "file_extension": ".py",
   "mimetype": "text/x-python",
   "name": "python",
   "nbconvert_exporter": "python",
   "pygments_lexer": "ipython3",
   "version": "3.7.5"
  },
  "nteract": {
   "version": "0.12.3"
  },
  "varInspector": {
   "cols": {
    "lenName": 16,
    "lenType": 16,
    "lenVar": 40
   },
   "kernels_config": {
    "python": {
     "delete_cmd_postfix": "",
     "delete_cmd_prefix": "del ",
     "library": "var_list.py",
     "varRefreshCmd": "print(var_dic_list())"
    },
    "r": {
     "delete_cmd_postfix": ") ",
     "delete_cmd_prefix": "rm(",
     "library": "var_list.r",
     "varRefreshCmd": "cat(var_dic_list()) "
    }
   },
   "types_to_exclude": [
    "module",
    "function",
    "builtin_function_or_method",
    "instance",
    "_Feature"
   ],
   "window_display": false
  }
 },
 "nbformat": 4,
 "nbformat_minor": 4
}
